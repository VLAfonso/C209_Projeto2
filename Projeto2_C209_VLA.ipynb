{
 "cells": [
  {
   "cell_type": "markdown",
   "metadata": {},
   "source": [
    "# Projeto 2 - C209 - Computação Gráfica e Multimídia"
   ]
  },
  {
   "cell_type": "markdown",
   "metadata": {},
   "source": [
    "#### Virgínia Letícia Afonso - 1944 - GEC"
   ]
  },
  {
   "cell_type": "markdown",
   "metadata": {},
   "source": [
    "* Gravação do vídeo lendo o texto do anexo."
   ]
  },
  {
   "cell_type": "markdown",
   "metadata": {},
   "source": [
    "A primeira etapa foi a gravação de um áudio meu lendo o texto do anexo. Em seguida, utilizando um editor de vídeo, adicionei 3 vídeos da Luna, a cachorrinha que aparece no vídeo, adicionei o aúdio da leitura ao vídeo e removi o original. Como o áudio gravado tinha um tempo maior do que os vídeos, tive que repetí-los para que o vídeo tivesse sempre uma imagem ao fundo. Dessa forma, obtive o vídeo \"luna_original.mp4\"."
   ]
  },
  {
   "cell_type": "markdown",
   "metadata": {},
   "source": [
    "* Importação das bibliotecas necessárias para manipulação de vídeo e áudio."
   ]
  },
  {
   "cell_type": "markdown",
   "metadata": {},
   "source": [
    "Para a manipulação do vídeo, será utilizada a biblioteca MoviePy.\n",
    "Para a manipulação de arrays, utilizaremos o NumPy.\n",
    "Para o uso da função de arrendondar um número para baixo, utlizaremos a biblioteca Math."
   ]
  },
  {
   "cell_type": "code",
   "execution_count": null,
   "metadata": {},
   "outputs": [],
   "source": [
    "import moviepy.editor as mpe\n",
    "import numpy as np\n",
    "import math"
   ]
  },
  {
   "cell_type": "markdown",
   "metadata": {},
   "source": [
    "* Carregar e abrir o vídeo original."
   ]
  },
  {
   "cell_type": "markdown",
   "metadata": {},
   "source": [
    "Utilizando MoviePy, foi carregado o vídeo original para realizar as edições necessárias. Além disso, o vídeo foi aberto para que seja possível visualizar o vídeo antes das edições."
   ]
  },
  {
   "cell_type": "code",
   "execution_count": null,
   "metadata": {},
   "outputs": [],
   "source": [
    "#Carregar o vídeo\n",
    "luna_original = mpe.VideoFileClip(\"luna_original.mp4\")"
   ]
  },
  {
   "cell_type": "code",
   "execution_count": null,
   "metadata": {},
   "outputs": [],
   "source": [
    "#Abrir o vídeo\n",
    "luna_original.ipython_display(width=240, maxduration=300)"
   ]
  },
  {
   "cell_type": "markdown",
   "metadata": {},
   "source": [
    "* Inverter a imagem, no eixo, a cada 20 segundos."
   ]
  },
  {
   "cell_type": "markdown",
   "metadata": {},
   "source": [
    "Para que tal inversão ocorra, percorreremos os frames do vídeo e, a cada 20 segundos, espelharemos o vídeo em ambos os eixos, utilizando a função fliplr da biblioteca NumPy.\n",
    "\n",
    "Para isso, nos segundos que, ao serem divididos por 20, forem pares, a imagem permanecerá igual ao original, enquanto os que forem ímpares, será invertida em ambos os eixos. Por exemplo, em 10, 44 e 87 segundos, permanecerá igual, enquanto em 22, 35 e 68 segundos, será invertida.\n",
    "\n",
    "Por fim, o vídeo com essa inversão é mostrado."
   ]
  },
  {
   "cell_type": "code",
   "execution_count": null,
   "metadata": {},
   "outputs": [],
   "source": [
    "#Inverter eixo do vídeo a cada 20 segundos\n",
    "def inverter(frame, t):\n",
    "    if(math.floor(t/20)%2==1):\n",
    "        return np.flip(frame(t), axis=(0,1))\n",
    "    else:\n",
    "        return frame(t)\n",
    "\n",
    "#Aplicar a inversão do vídeo\n",
    "luna_invertida = luna_original.fl(inverter)"
   ]
  },
  {
   "cell_type": "code",
   "execution_count": null,
   "metadata": {},
   "outputs": [],
   "source": [
    "# Mostrar vídeo invertido\n",
    "luna_invertida.ipython_display(width=240, maxduration=300)"
   ]
  },
  {
   "cell_type": "markdown",
   "metadata": {},
   "source": [
    "* Diminiur o som, de forma gradativa, a cada 30 segundos, de forma que os últimos 10 segundos fique em silêncio (sem som)."
   ]
  },
  {
   "cell_type": "markdown",
   "metadata": {},
   "source": [
    "Para a diminuição do som, primeiramente foi calculada a porcentagem que o som deve ser dimuinuido para que ocorra de forma gradativa a cada 30 segundos, considerando que os últimos 10 segundos devem ficar sem som.\n",
    "\n",
    "Esses últimos 10 segundos devem ser utilizados no cálculo dessa porcentagem. Isso, pois se considerarmos um vídeo de 1 minuto e 5 segundos, por exemplo, e dividíssemos por 30 segundos, sem considerar esses 10 segundos finais, encontrariámos que deveria ser feita 2 divisões para obtermos 3 intervalos. Agora se considerassemos um vídeo de 1 minuto e 22 segundos e também dividissímos por 30 segundos, também encontraríamos 2 divisões e 3 intervalos, porém apenas nesse segundo caso que os últimos 10 segundos ficariam sem som, pois no primeiro caso apenas os últimos 7 segundos ficariam sem som. Logo, são subtraídos 10 segundos do tempo total do vídeo para depois realizar a divisão por 30 segundos."
   ]
  },
  {
   "cell_type": "code",
   "execution_count": null,
   "metadata": {},
   "outputs": [],
   "source": [
    "div = math.floor((luna_invertida.duration-10)/30)  # qtd divisões para redução do som\n",
    "\n",
    "print(f\"Devem haver {div} divisões para obtermos {div+1} intervalos, pois o vídeo possui {luna_invertida.duration} segundos.\")"
   ]
  },
  {
   "cell_type": "markdown",
   "metadata": {},
   "source": [
    "Agora, com base no número de intervalos e de divisões que devem ser feitos no vídeo, iremos percorrer o vídeo e diminuir seu som gradativamente.\n",
    "\n",
    "Para isso, foi utilizada a função fl no áudio do vídeo para percorrê-lo e, de acordo com o tempo do vídeo, e calculada a porcentagem de som que deveria ser aplicada a cada trecho.\n",
    "\n",
    "Nesse caso, por haver 4 divisões e 5 intervalos, o resultado encontrado foi:\n",
    "\n",
    "De 0 a 30 segundos = 100%.\n",
    "\n",
    "De 30 a 60 segundos = 75%.\n",
    "\n",
    "De 60 a 90 segundos = 50%.\n",
    "\n",
    "De 90 a 120 segundos = 25%.\n",
    "\n",
    "De 120 a 137 segundos = 0%.\n",
    "\n",
    "Por fim, o vídeo com essa diminuição do som é mostrado."
   ]
  },
  {
   "cell_type": "code",
   "execution_count": null,
   "metadata": {},
   "outputs": [],
   "source": [
    "#Redução do áudio a cada 30 segundos\n",
    "def reducao(audio, t):\n",
    "    frame = audio(t)\n",
    "\n",
    "    porcentagem = np.clip(1-(math.floor(t[0]/30))*(1.0/div), 0, None)\n",
    "\n",
    "    frame[:, 0] *= porcentagem  # Aplicar redução proporcional no canal esquerdo\n",
    "    frame[:, 1] *= porcentagem  # Aplicar redução proporcional no canal direito\n",
    "\n",
    "    return frame\n",
    "\n",
    "# Aplicar a redução no áudio\n",
    "audio_reduzido = luna_invertida.audio.fl(reducao)\n",
    "luna_reduzido = luna_invertida.set_audio(audio_reduzido)"
   ]
  },
  {
   "cell_type": "code",
   "execution_count": null,
   "metadata": {},
   "outputs": [],
   "source": [
    "# Mostrar vídeo com áudio reduzido\n",
    "luna_reduzido.ipython_display(width=240, maxduration=300)"
   ]
  },
  {
   "cell_type": "markdown",
   "metadata": {},
   "source": [
    "* Após o primeiro minuto, 60 segundos, fazer um corte para o segundo 80."
   ]
  },
  {
   "cell_type": "markdown",
   "metadata": {},
   "source": [
    "Primeiramente, iremos cortar o vídeo em 60 segundos. Em seguida, faremos um segundo corte a partir dos 80 segundos e juntaremos os dois cortes.\n",
    "\n",
    "Para esses cortes, foi utilizada a função subclip, que extrai um trecho do vídeo e, para a junção, foi utilizada a função concatenate_videoclips, juntando os dois trechos cortados em um único vídeo."
   ]
  },
  {
   "cell_type": "code",
   "execution_count": null,
   "metadata": {},
   "outputs": [],
   "source": [
    "#Realizar os cortes\n",
    "corte_1 = luna_reduzido.subclip(0,60)\n",
    "corte_2 = luna_reduzido.subclip(80)\n",
    "\n",
    "#Juntar os cortes\n",
    "luna_cortado = mpe.concatenate_videoclips([corte_1, corte_2])"
   ]
  },
  {
   "cell_type": "markdown",
   "metadata": {},
   "source": [
    "* Por fim, inserir os 20 segundos cortados acima no fim do video."
   ]
  },
  {
   "cell_type": "markdown",
   "metadata": {},
   "source": [
    "Iremos realizar um corte a partir dos 60 segundos até os 80 segundos e o adicionaremos ao final do vídeo cortado.\n",
    "\n",
    "Para isso, foram utilizadas as mesmas funções da etapa anterior, porém juntando o vídeo anterior com os 20 segundos cortados.\n",
    "\n",
    "Como essa é a última etapa da edição, o vídeo gerado dessa junção é o vídeo final.\n",
    "\n",
    "Esse vídeo final é mostrado."
   ]
  },
  {
   "cell_type": "code",
   "execution_count": null,
   "metadata": {},
   "outputs": [],
   "source": [
    "#Realizar corte\n",
    "corte_3 = luna_reduzido.subclip(60,80)\n",
    "\n",
    "#Adicionar ao final do vídeo\n",
    "luna_final = mpe.concatenate_videoclips([luna_cortado, corte_3])"
   ]
  },
  {
   "cell_type": "code",
   "execution_count": null,
   "metadata": {},
   "outputs": [],
   "source": [
    "#Mostrar vídeo final\n",
    "luna_final.ipython_display(width=240, maxduration=300)"
   ]
  },
  {
   "cell_type": "markdown",
   "metadata": {},
   "source": [
    "* Salvar o vídeo final."
   ]
  },
  {
   "cell_type": "markdown",
   "metadata": {},
   "source": [
    "Por fim, utilizando a função write_videofile, o vídeo final é gravado com o nome \"luna_final.mp4\"."
   ]
  },
  {
   "cell_type": "code",
   "execution_count": null,
   "metadata": {},
   "outputs": [],
   "source": [
    "#Salvar vídeo\n",
    "luna_final.write_videofile('luna_final.mp4')"
   ]
  }
 ],
 "metadata": {
  "kernelspec": {
   "display_name": "Python 3",
   "language": "python",
   "name": "python3"
  },
  "language_info": {
   "codemirror_mode": {
    "name": "ipython",
    "version": 3
   },
   "file_extension": ".py",
   "mimetype": "text/x-python",
   "name": "python",
   "nbconvert_exporter": "python",
   "pygments_lexer": "ipython3",
   "version": "3.11.4"
  }
 },
 "nbformat": 4,
 "nbformat_minor": 2
}
