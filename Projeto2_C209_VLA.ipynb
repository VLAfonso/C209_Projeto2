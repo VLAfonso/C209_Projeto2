version https://git-lfs.github.com/spec/v1
oid sha256:fb9b49b1ce778f9923cfea0e5293298cb511029a3fe35d7eecb2533b3208599f
size 525490031
